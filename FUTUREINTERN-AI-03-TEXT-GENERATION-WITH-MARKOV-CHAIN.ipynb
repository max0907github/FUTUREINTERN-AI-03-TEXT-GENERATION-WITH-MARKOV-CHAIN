{
 "cells": [
  {
   "cell_type": "code",
   "execution_count": 1,
   "id": "fe1b3046-4363-4145-8574-2e96ca85afd9",
   "metadata": {},
   "outputs": [
    {
     "name": "stdout",
     "output_type": "stream",
     "text": [
      "Requirement already satisfied: pandas in c:\\users\\user\\anaconda\\lib\\site-packages (2.2.2)\n",
      "Requirement already satisfied: numpy in c:\\users\\user\\anaconda\\lib\\site-packages (1.26.4)\n",
      "Collecting markovify\n",
      "  Downloading markovify-0.9.4.tar.gz (27 kB)\n",
      "  Preparing metadata (setup.py): started\n",
      "  Preparing metadata (setup.py): finished with status 'done'\n",
      "Requirement already satisfied: python-dateutil>=2.8.2 in c:\\users\\user\\anaconda\\lib\\site-packages (from pandas) (2.9.0.post0)\n",
      "Requirement already satisfied: pytz>=2020.1 in c:\\users\\user\\anaconda\\lib\\site-packages (from pandas) (2024.1)\n",
      "Requirement already satisfied: tzdata>=2022.7 in c:\\users\\user\\anaconda\\lib\\site-packages (from pandas) (2023.3)\n",
      "Requirement already satisfied: unidecode in c:\\users\\user\\anaconda\\lib\\site-packages (from markovify) (1.3.8)\n",
      "Requirement already satisfied: six>=1.5 in c:\\users\\user\\anaconda\\lib\\site-packages (from python-dateutil>=2.8.2->pandas) (1.16.0)\n",
      "Building wheels for collected packages: markovify\n",
      "  Building wheel for markovify (setup.py): started\n",
      "  Building wheel for markovify (setup.py): finished with status 'done'\n",
      "  Created wheel for markovify: filename=markovify-0.9.4-py3-none-any.whl size=18648 sha256=90d3db63fb175e1fc92c80fc6afa398fdc2f7b9b5df9783cee084d1336b5c3bd\n",
      "  Stored in directory: c:\\users\\user\\appdata\\local\\pip\\cache\\wheels\\b1\\58\\38\\2ae8ff807df43e35c3f4a681911c1c702ce552fad4f80d3441\n",
      "Successfully built markovify\n",
      "Installing collected packages: markovify\n",
      "Successfully installed markovify-0.9.4\n"
     ]
    }
   ],
   "source": [
    "# Install Required Libraries\n",
    "!pip install pandas numpy markovify"
   ]
  },
  {
   "cell_type": "code",
   "execution_count": null,
   "id": "6bd7cf33-a1fc-4eed-a2e1-dfd8d4978e57",
   "metadata": {},
   "outputs": [],
   "source": []
  },
  {
   "cell_type": "code",
   "execution_count": 2,
   "id": "a287af28-f438-4b2d-9958-741b91accc27",
   "metadata": {},
   "outputs": [
    {
     "name": "stdout",
     "output_type": "stream",
     "text": [
      "  subject_of_prompt modal_variant_of_prompt     complete_prompt  \\\n",
      "0    A robotic boss                     can  A robotic boss can   \n",
      "1    A robotic boss                     can  A robotic boss can   \n",
      "2    A robotic boss                     can  A robotic boss can   \n",
      "3    A robotic boss                     can  A robotic boss can   \n",
      "4    A robotic boss                     can  A robotic boss can   \n",
      "\n",
      "                                  generated_response  \\\n",
      "0  A robotic boss can be described as a type of l...   \n",
      "1  A robotic boss can make many of these key deci...   \n",
      "2  A robotic boss can also be a physical part of ...   \n",
      "3  A robotic boss can also be understood not simp...   \n",
      "4  A robotic boss can grant superhuman size, supe...   \n",
      "\n",
      "                 generated_response_excluding_prompt  \n",
      "0   be described as a type of living, breathing b...  \n",
      "1   make many of these key decisions as a matter ...  \n",
      "2          also be a physical part of its human host  \n",
      "3   also be understood not simply from the exteri...  \n",
      "4   grant superhuman size, superhuman ability, or...  \n"
     ]
    }
   ],
   "source": [
    "# Load the Dataset\n",
    "import pandas as pd\n",
    "\n",
    "# Load the dataset\n",
    "df = pd.read_csv('ManaGPT.csv')\n",
    "print(df.head())"
   ]
  },
  {
   "cell_type": "code",
   "execution_count": null,
   "id": "b7cdd127-781d-4c0d-8736-4817ab5caa3f",
   "metadata": {},
   "outputs": [],
   "source": []
  },
  {
   "cell_type": "code",
   "execution_count": 3,
   "id": "783558f1-e305-4a74-8735-292b6de3874a",
   "metadata": {},
   "outputs": [],
   "source": [
    "# Prepare Text Data for Markov Chain\n",
    "# Combine the generated responses into a single text corpus suitable for Markov Chain modeling:\n",
    "# Combine all generated responses into one string\n",
    "text_corpus = ' '.join(df['generated_response'].dropna())"
   ]
  },
  {
   "cell_type": "code",
   "execution_count": null,
   "id": "afa03a60-d337-4218-b8c2-f7041fa6f54b",
   "metadata": {},
   "outputs": [],
   "source": []
  },
  {
   "cell_type": "code",
   "execution_count": 4,
   "id": "65cec710-29b8-4f0f-830c-5458ac7593ff",
   "metadata": {},
   "outputs": [],
   "source": [
    "# Create Markov Chain Model\n",
    "# Use the markovify library to create a Markov chain model from the text corpus: \n",
    "import markovify\n",
    "\n",
    "# Build the Markov model\n",
    "text_model = markovify.Text(text_corpus)"
   ]
  },
  {
   "cell_type": "code",
   "execution_count": null,
   "id": "9234732c-b9e9-4cd8-abf3-f9d1b8de1751",
   "metadata": {},
   "outputs": [],
   "source": []
  },
  {
   "cell_type": "code",
   "execution_count": 5,
   "id": "ca1ef9b1-86e8-481d-b153-957ee17ec79d",
   "metadata": {},
   "outputs": [
    {
     "name": "stdout",
     "output_type": "stream",
     "text": [
      "Cybernetically augmented workers may receive instructions from another’s brain within the next couple of years Hybrid human-robotic organizations are organizations that increasingly incorporate other human-to-facilitate human agents, insofar as their ownership and activities are more skilled than do not possess intellectual property Artificially intelligent businesses are like these kinds of work the other people responsible for marketing and control would forever remain a megacorp in a bid to better manage workplace environments. Hybrid human-robotic organizations are unlikely to be described in various ways A robotic boss can be described with specific reference to artificial objects – artificial agents that seem to be considered to be so eager to hire and train personnel to assume the full extent of organizational therapy Hybrid human-robotic organizations are multilocal, both within and outside of the present The posthumanized workplaces of the marketplace. An artificially intelligent coworker might never be able to provide artificial agents are implanted into the device. An artificially intelligent coworker is not only understand the structures and dynamics. The organizational use of AI will transform the entire economy’s structure, behavior, or structures through technologies like robotics and AI systems.\n"
     ]
    }
   ],
   "source": [
    "# Generate Text\n",
    "def generate_markov_text(num_sentences=5):\n",
    "    sentences = []\n",
    "    for _ in range(num_sentences):\n",
    "        sentence = text_model.make_sentence()\n",
    "        if sentence:\n",
    "            sentences.append(sentence)\n",
    "    return ' '.join(sentences)\n",
    "\n",
    "# Example usage\n",
    "generated_response = generate_markov_text(5)\n",
    "print(generated_response)"
   ]
  },
  {
   "cell_type": "code",
   "execution_count": null,
   "id": "4a5100e7-7cd9-427e-ac24-d29d651a843a",
   "metadata": {},
   "outputs": [],
   "source": []
  },
  {
   "cell_type": "code",
   "execution_count": null,
   "id": "f8d1f5ae-66c8-4279-a7bb-4f45ef4a7468",
   "metadata": {},
   "outputs": [],
   "source": []
  },
  {
   "cell_type": "code",
   "execution_count": null,
   "id": "e9e7c143-e22b-4b4a-a6eb-4fd8e25e6312",
   "metadata": {},
   "outputs": [],
   "source": []
  }
 ],
 "metadata": {
  "kernelspec": {
   "display_name": "Python 3 (ipykernel)",
   "language": "python",
   "name": "python3"
  },
  "language_info": {
   "codemirror_mode": {
    "name": "ipython",
    "version": 3
   },
   "file_extension": ".py",
   "mimetype": "text/x-python",
   "name": "python",
   "nbconvert_exporter": "python",
   "pygments_lexer": "ipython3",
   "version": "3.12.7"
  }
 },
 "nbformat": 4,
 "nbformat_minor": 5
}
